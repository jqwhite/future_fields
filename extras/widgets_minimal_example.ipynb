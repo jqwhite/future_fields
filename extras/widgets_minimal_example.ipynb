{
 "cells": [
  {
   "cell_type": "code",
   "execution_count": 1,
   "id": "7ba45abb-0d92-4747-88c1-49d439f11cc8",
   "metadata": {
    "tags": []
   },
   "outputs": [],
   "source": [
    "import os\n",
    "import urllib3\n",
    "\n",
    "import ipywidgets as widgets\n",
    "\n",
    "from IPython.display import display\n",
    "\n",
    "from arcgis.gis import GIS\n",
    "from arcgis.widgets import MapView\n",
    "from arcgis.mapping import WebMap"
   ]
  },
  {
   "cell_type": "code",
   "execution_count": 2,
   "id": "7f3cb7e5-d113-4e3f-af21-c3cd197d9a7d",
   "metadata": {},
   "outputs": [],
   "source": [
    "# MapView.set_js_cdn(\"https://umich.maps.arcgis.com/jsapi4/\")\n",
    "MapView.set_js_cdn(\"https://js.arcgis.com/4.18/\")"
   ]
  },
  {
   "cell_type": "code",
   "execution_count": 3,
   "id": "7fe1cd19-4326-4bfb-9cc4-ea06a5b2d3a1",
   "metadata": {
    "tags": []
   },
   "outputs": [],
   "source": [
    "gis=GIS()"
   ]
  },
  {
   "cell_type": "code",
   "execution_count": 4,
   "id": "aed655f9-33f6-4512-958c-79df521db94f",
   "metadata": {
    "tags": []
   },
   "outputs": [
    {
     "data": {
      "application/vnd.jupyter.widget-view+json": {
       "model_id": "0b0a45d944384fcfb8c168946103edbd",
       "version_major": 2,
       "version_minor": 0
      },
      "text/plain": [
       "MapView(layout=Layout(height='400px', width='100%'))"
      ]
     },
     "metadata": {},
     "output_type": "display_data"
    },
    {
     "data": {
      "text/html": [
       "<div class=\"map-static-img-preview-ace36438-b27b-479e-b2a9-79d502850284\"><img src=\"\"></img></div>"
      ],
      "text/plain": [
       "<IPython.core.display.HTML object>"
      ]
     },
     "metadata": {},
     "output_type": "display_data"
    },
    {
     "data": {
      "text/html": [
       "<div class=\"map-html-embed-preview-ace36438-b27b-479e-b2a9-79d502850284\"></div>"
      ],
      "text/plain": [
       "<IPython.core.display.HTML object>"
      ]
     },
     "metadata": {},
     "output_type": "display_data"
    }
   ],
   "source": [
    "gis.map()"
   ]
  },
  {
   "cell_type": "code",
   "execution_count": 5,
   "id": "66f5affb-9ba7-4a59-b809-badf6c040061",
   "metadata": {
    "tags": []
   },
   "outputs": [
    {
     "data": {
      "application/vnd.jupyter.widget-view+json": {
       "model_id": "8c5b269e2123417d9e532712a957911c",
       "version_major": 2,
       "version_minor": 0
      },
      "text/plain": [
       "MapView(layout=Layout(height='400px', width='100%'))"
      ]
     },
     "metadata": {},
     "output_type": "display_data"
    },
    {
     "data": {
      "text/html": [
       "<div class=\"map-static-img-preview-f2020566-f24d-40fa-8cda-5e27040c9386\"><img src=\"\"></img></div>"
      ],
      "text/plain": [
       "<IPython.core.display.HTML object>"
      ]
     },
     "metadata": {},
     "output_type": "display_data"
    },
    {
     "data": {
      "text/html": [
       "<div class=\"map-html-embed-preview-f2020566-f24d-40fa-8cda-5e27040c9386\"></div>"
      ],
      "text/plain": [
       "<IPython.core.display.HTML object>"
      ]
     },
     "metadata": {},
     "output_type": "display_data"
    }
   ],
   "source": [
    "gis.map('California', zoomlevel=5)"
   ]
  },
  {
   "cell_type": "code",
   "execution_count": 6,
   "id": "ec00c567-b3a3-4ac1-843e-b10334990e46",
   "metadata": {
    "tags": []
   },
   "outputs": [
    {
     "data": {
      "application/vnd.jupyter.widget-view+json": {
       "model_id": "b90ae8a795ab485d940fe57da9b6f2c3",
       "version_major": 2,
       "version_minor": 0
      },
      "text/plain": [
       "IntSlider(value=0)"
      ]
     },
     "metadata": {},
     "output_type": "display_data"
    }
   ],
   "source": [
    "widgets.IntSlider()"
   ]
  },
  {
   "cell_type": "code",
   "execution_count": 17,
   "id": "54bc3c9d-3838-416d-b936-a7634a1b69f4",
   "metadata": {
    "tags": []
   },
   "outputs": [
    {
     "name": "stdout",
     "output_type": "stream",
     "text": [
      "# packages in environment at /Users/jwhite/miniforge3/envs/arcgis23:\n",
      "#\n",
      "# Name                    Version                   Build  Channel\n",
      "arcgis                    2.3.1                   py311_9    esri/label/prerelease\n"
     ]
    }
   ],
   "source": [
    "! conda list arcgis"
   ]
  },
  {
   "cell_type": "code",
   "execution_count": 18,
   "id": "5b1fa1e7-0458-4d20-9451-703cb4084315",
   "metadata": {
    "tags": []
   },
   "outputs": [
    {
     "name": "stdout",
     "output_type": "stream",
     "text": [
      "# packages in environment at /Users/jwhite/miniforge3/envs/arcgis23:\n",
      "#\n",
      "# Name                    Version                   Build  Channel\n",
      "jupyterlab                3.6.7              pyhd8ed1ab_0    conda-forge\n",
      "jupyterlab_pygments       0.3.0              pyhd8ed1ab_0    conda-forge\n",
      "jupyterlab_server         2.27.2             pyhd8ed1ab_0    conda-forge\n",
      "jupyterlab_widgets        1.1.8              pyhd8ed1ab_0    conda-forge\n"
     ]
    }
   ],
   "source": [
    "! conda list jupyterlab"
   ]
  },
  {
   "cell_type": "code",
   "execution_count": 19,
   "id": "b8188e6f-4349-45a6-9366-d2196583fc30",
   "metadata": {
    "tags": []
   },
   "outputs": [
    {
     "name": "stdout",
     "output_type": "stream",
     "text": [
      "JupyterLab v3.6.7\n",
      "/Users/jwhite/miniforge3/envs/arcgis23/share/jupyter/labextensions\n",
      "        jupyterlab_pygments v0.3.0 \u001b[32menabled\u001b[0m \u001b[31m X\u001b[0m (python, jupyterlab_pygments)\n",
      "        @jupyter-widgets/jupyterlab-manager v3.1.8 \u001b[32menabled\u001b[0m \u001b[32mOK\u001b[0m (python, jupyterlab_widgets)\n",
      "\n",
      "\n",
      "\"jupyterlab_pygments@0.3.0\" is not compatible with the current JupyterLab\n",
      "Conflicting Dependencies:\n",
      "JupyterLab              Extension      Package\n",
      ">=3.6.7 <3.7.0          >=4.0.8 <5.0.0 @jupyterlab/application\n",
      "\n",
      "\n"
     ]
    }
   ],
   "source": [
    "! jupyter labextension list"
   ]
  },
  {
   "cell_type": "code",
   "execution_count": 20,
   "id": "533b8abd-7fb0-43d3-b94f-efac7ad1a519",
   "metadata": {
    "tags": []
   },
   "outputs": [
    {
     "name": "stdout",
     "output_type": "stream",
     "text": [
      "# packages in environment at /Users/jwhite/miniforge3/envs/arcgis23:\n",
      "#\n",
      "# Name                    Version                   Build  Channel\n",
      "nodejs                    22.4.1               h3fe1c63_0    conda-forge\n"
     ]
    }
   ],
   "source": [
    "! conda list nodejs"
   ]
  }
 ],
 "metadata": {
  "kernelspec": {
   "display_name": "Python 3 (ipykernel)",
   "language": "python",
   "name": "python3"
  },
  "language_info": {
   "codemirror_mode": {
    "name": "ipython",
    "version": 3
   },
   "file_extension": ".py",
   "mimetype": "text/x-python",
   "name": "python",
   "nbconvert_exporter": "python",
   "pygments_lexer": "ipython3",
   "version": "3.11.9"
  }
 },
 "nbformat": 4,
 "nbformat_minor": 5
}
